{
 "cells": [
  {
   "cell_type": "code",
   "execution_count": 35,
   "id": "cb3c619e",
   "metadata": {},
   "outputs": [],
   "source": [
    "import os\n",
    "import glob as glob\n",
    "import tkinter as tk\n",
    "import pandas as pd\n",
    "from tkinter.filedialog import askdirectory"
   ]
  },
  {
   "cell_type": "code",
   "execution_count": 37,
   "id": "11a6a5ce",
   "metadata": {},
   "outputs": [
    {
     "name": "stderr",
     "output_type": "stream",
     "text": [
      "2023-12-04 11:23:28.678 python[14480:704648] +[CATransaction synchronize] called within transaction\n",
      "2023-12-04 11:23:28.764 python[14480:704648] +[CATransaction synchronize] called within transaction\n",
      "2023-12-04 11:23:28.942 python[14480:704648] +[CATransaction synchronize] called within transaction\n",
      "2023-12-04 11:23:32.524 python[14480:704648] +[CATransaction synchronize] called within transaction\n"
     ]
    },
    {
     "ename": "FileNotFoundError",
     "evalue": "[Errno 2] No such file or directory: ''",
     "output_type": "error",
     "traceback": [
      "\u001b[0;31m---------------------------------------------------------------------------\u001b[0m",
      "\u001b[0;31mFileNotFoundError\u001b[0m                         Traceback (most recent call last)",
      "Cell \u001b[0;32mIn[37], line 3\u001b[0m\n\u001b[1;32m      1\u001b[0m \u001b[38;5;66;03m# ask for user's working directory\u001b[39;00m\n\u001b[1;32m      2\u001b[0m path \u001b[38;5;241m=\u001b[39m askdirectory(title\u001b[38;5;241m=\u001b[39m\u001b[38;5;124m'\u001b[39m\u001b[38;5;124mSelect Folder\u001b[39m\u001b[38;5;124m'\u001b[39m) \u001b[38;5;66;03m# shows dialog box and return the path\u001b[39;00m\n\u001b[0;32m----> 3\u001b[0m os\u001b[38;5;241m.\u001b[39mchdir(path)\n",
      "\u001b[0;31mFileNotFoundError\u001b[0m: [Errno 2] No such file or directory: ''"
     ]
    }
   ],
   "source": [
    "# ask for user's working directory\n",
    "path = askdirectory(title='Select Folder') # shows dialog box and return the path\n",
    "os.chdir(path)"
   ]
  },
  {
   "cell_type": "code",
   "execution_count": 21,
   "id": "f115bf1f",
   "metadata": {},
   "outputs": [
    {
     "data": {
      "text/plain": [
       "['vt3 raw data.csv']"
      ]
     },
     "execution_count": 21,
     "metadata": {},
     "output_type": "execute_result"
    }
   ],
   "source": [
    "# making dataframe\n",
    "filename = glob.glob(\"*.csv\")"
   ]
  },
  {
   "cell_type": "code",
   "execution_count": 27,
   "id": "15ee89d6",
   "metadata": {},
   "outputs": [],
   "source": [
    "for f in filename:\n",
    "    df = pd.read_csv(f)"
   ]
  },
  {
   "cell_type": "code",
   "execution_count": null,
   "id": "9d5e6e85",
   "metadata": {},
   "outputs": [],
   "source": []
  }
 ],
 "metadata": {
  "kernelspec": {
   "display_name": "Python 3 (ipykernel)",
   "language": "python",
   "name": "python3"
  },
  "language_info": {
   "codemirror_mode": {
    "name": "ipython",
    "version": 3
   },
   "file_extension": ".py",
   "mimetype": "text/x-python",
   "name": "python",
   "nbconvert_exporter": "python",
   "pygments_lexer": "ipython3",
   "version": "3.11.4"
  }
 },
 "nbformat": 4,
 "nbformat_minor": 5
}
